{
 "cells": [
  {
   "cell_type": "code",
   "execution_count": 1,
   "id": "2b91c1ae",
   "metadata": {},
   "outputs": [
    {
     "name": "stdout",
     "output_type": "stream",
     "text": [
      "Overwriting armstrong_number.py\n"
     ]
    }
   ],
   "source": [
    "%%writefile armstrong_number.py\n",
    "\n",
    "## Armstrong numbers are those numbers whose sum of individual digits raised \n",
    "## to the power of length of the number equals the number itself.\n",
    "## Example ~~ 153 = (1^3)+(5^3)+(3^3) = 153. Hence 153 is an armstrong number. \n",
    "## Let's get started. \n",
    "\n",
    "\"\"\" This function helps in determining whether a number is armstrong or not.\"\"\"\n",
    "\n",
    "def is_armstrong_number(number):\n",
    "    \n",
    "    \"\"\"\n",
    "    Verifies whether the number fed as argument is an armstrong number or not. \n",
    "    \n",
    "    :para: number: int - A number of our choice is fed as argument into the function. \n",
    "    :return: bool - Returns a bool value i.e True or False. \n",
    "    \"\"\"\n",
    "    sum_of_number = 0\n",
    "    number_str = str(number)\n",
    "    number_digit = len(number_str)\n",
    "    \n",
    "    for digit in number_str:\n",
    "        sum_of_number += int(digit)**number_digit\n",
    "    return sum_of_number == number"
   ]
  },
  {
   "cell_type": "code",
   "execution_count": 4,
   "id": "0cde7f54",
   "metadata": {},
   "outputs": [
    {
     "data": {
      "text/plain": [
       "False"
      ]
     },
     "execution_count": 4,
     "metadata": {},
     "output_type": "execute_result"
    }
   ],
   "source": [
    "import armstrong_number\n",
    "armstrong_number.is_armstrong_number(154)"
   ]
  },
  {
   "cell_type": "code",
   "execution_count": 5,
   "id": "7aea5b06",
   "metadata": {},
   "outputs": [
    {
     "data": {
      "text/plain": [
       "True"
      ]
     },
     "execution_count": 5,
     "metadata": {},
     "output_type": "execute_result"
    }
   ],
   "source": [
    "armstrong_number.is_armstrong_number(153)"
   ]
  }
 ],
 "metadata": {
  "kernelspec": {
   "display_name": "Python 3 (ipykernel)",
   "language": "python",
   "name": "python3"
  },
  "language_info": {
   "codemirror_mode": {
    "name": "ipython",
    "version": 3
   },
   "file_extension": ".py",
   "mimetype": "text/x-python",
   "name": "python",
   "nbconvert_exporter": "python",
   "pygments_lexer": "ipython3",
   "version": "3.11.5"
  }
 },
 "nbformat": 4,
 "nbformat_minor": 5
}
