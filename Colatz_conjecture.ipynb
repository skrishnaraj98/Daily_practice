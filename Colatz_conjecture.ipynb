{
 "cells": [
  {
   "cell_type": "code",
   "execution_count": 1,
   "id": "6b37911b",
   "metadata": {},
   "outputs": [
    {
     "name": "stdout",
     "output_type": "stream",
     "text": [
      "Overwriting colatz_conjecture.py\n"
     ]
    }
   ],
   "source": [
    "%%writefile colatz_conjecture.py\n",
    "## Colatz Conjecture is a very famous problem that states that any positive number \n",
    "## using the conjecture will reach 1 in multiple steps. \n",
    "\n",
    "def steps(number):\n",
    "    \"\"\"This function determines the number of steps a number takes to reach 1 using Colatz Conjecture.\"\"\"\n",
    "    if number <= 0:\n",
    "        raise ValueError(\"Only positive integers are allowed\")\n",
    "        \n",
    "    steps = 0\n",
    "    while number != 1: \n",
    "        steps += 1\n",
    "        if number%2:\n",
    "            number = number * 3 + 1\n",
    "        else: \n",
    "            number = number / 2\n",
    "   \n",
    "    return \"Number of steps to reach 1: \",steps"
   ]
  },
  {
   "cell_type": "code",
   "execution_count": 2,
   "id": "acd6dcd1",
   "metadata": {},
   "outputs": [],
   "source": [
    "import colatz_conjecture"
   ]
  },
  {
   "cell_type": "code",
   "execution_count": 3,
   "id": "fff3dd90",
   "metadata": {},
   "outputs": [
    {
     "data": {
      "text/plain": [
       "('Number of steps to reach 1: ', 23)"
      ]
     },
     "execution_count": 3,
     "metadata": {},
     "output_type": "execute_result"
    }
   ],
   "source": [
    "colatz_conjecture.steps(25)"
   ]
  },
  {
   "cell_type": "code",
   "execution_count": null,
   "id": "c8a38d75",
   "metadata": {},
   "outputs": [],
   "source": []
  }
 ],
 "metadata": {
  "kernelspec": {
   "display_name": "Python 3 (ipykernel)",
   "language": "python",
   "name": "python3"
  },
  "language_info": {
   "codemirror_mode": {
    "name": "ipython",
    "version": 3
   },
   "file_extension": ".py",
   "mimetype": "text/x-python",
   "name": "python",
   "nbconvert_exporter": "python",
   "pygments_lexer": "ipython3",
   "version": "3.11.5"
  }
 },
 "nbformat": 4,
 "nbformat_minor": 5
}
