{
 "cells": [
  {
   "cell_type": "code",
   "execution_count": 3,
   "id": "c0f0eeb3",
   "metadata": {},
   "outputs": [
    {
     "name": "stdout",
     "output_type": "stream",
     "text": [
      "Overwriting grains_problem.py\n"
     ]
    }
   ],
   "source": [
    "%%writefile grains_problem.py\n",
    "\n",
    "\"\"\"This code is for grains problem which is set in a chess of 64 boxes. A single grain is placed \n",
    "at the 1st box and then it doubles at successive boxes till it reaches the 64th one.\"\"\"\n",
    "\n",
    "def square(number_of_your_choice):\n",
    "    \"\"\"\n",
    "    This function helps you determine the accurate number of grains at a particular box in chess!\n",
    "    \n",
    "    :para: number_of_your_choice: int - feed in any whole number within 1 and 64.\n",
    "    :return: int - total number of grain at that particular box.\n",
    "    \"\"\"\n",
    "    if (number_of_your_choice < 1) or (number_of_your_choice > 64):\n",
    "        raise ValueError(\"square must be between 1 and 64\")\n",
    "\n",
    "    box_number = 0\n",
    "    number_of_grains = 1\n",
    "    for i in range(1,65):\n",
    "        box_number+=1\n",
    "        if box_number == number_of_your_choice:\n",
    "            return number_of_grains\n",
    "        number_of_grains *=2\n",
    "\n",
    "def total():\n",
    "    \"\"\"\n",
    "    This function helps you determine the total number_of_grains in the chess box following the rules\n",
    "    of placing the grains.\n",
    "    \n",
    "    :return: int - Returns a whole number which is the sum of all the grains placed in each of the \n",
    "    boxes within the chess. \n",
    "    \"\"\"\n",
    "    \n",
    "    empty_variable = 0\n",
    "    number_of_grains = 1\n",
    "    for i in range(1,65):\n",
    "        empty_variable +=number_of_grains\n",
    "        number_of_grains *= 2\n",
    "    return empty_variable"
   ]
  },
  {
   "cell_type": "code",
   "execution_count": 5,
   "id": "b1a35b44",
   "metadata": {},
   "outputs": [],
   "source": [
    "import grains_problem"
   ]
  },
  {
   "cell_type": "code",
   "execution_count": 8,
   "id": "a042af7f",
   "metadata": {},
   "outputs": [
    {
     "data": {
      "text/plain": [
       "2147483648"
      ]
     },
     "execution_count": 8,
     "metadata": {},
     "output_type": "execute_result"
    }
   ],
   "source": [
    "grains_problem.square(32)"
   ]
  },
  {
   "cell_type": "code",
   "execution_count": 9,
   "id": "476d2df2",
   "metadata": {},
   "outputs": [
    {
     "data": {
      "text/plain": [
       "18446744073709551615"
      ]
     },
     "execution_count": 9,
     "metadata": {},
     "output_type": "execute_result"
    }
   ],
   "source": [
    "grains_problem.total()"
   ]
  },
  {
   "cell_type": "code",
   "execution_count": null,
   "id": "7e44a698",
   "metadata": {},
   "outputs": [],
   "source": []
  }
 ],
 "metadata": {
  "kernelspec": {
   "display_name": "Python 3 (ipykernel)",
   "language": "python",
   "name": "python3"
  },
  "language_info": {
   "codemirror_mode": {
    "name": "ipython",
    "version": 3
   },
   "file_extension": ".py",
   "mimetype": "text/x-python",
   "name": "python",
   "nbconvert_exporter": "python",
   "pygments_lexer": "ipython3",
   "version": "3.11.5"
  }
 },
 "nbformat": 4,
 "nbformat_minor": 5
}
