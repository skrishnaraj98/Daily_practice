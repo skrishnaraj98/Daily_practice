{
 "cells": [
  {
   "cell_type": "code",
   "execution_count": 5,
   "id": "4b7bc70c-edd2-43c2-a229-497ed10c9117",
   "metadata": {},
   "outputs": [],
   "source": [
    "game_list = [0,1,2]\n",
    "\n",
    "def display(game_list):\n",
    "    print(\"Here's the current list!\")\n",
    "    print(game_list)"
   ]
  },
  {
   "cell_type": "code",
   "execution_count": 6,
   "id": "d8acba86-645e-470d-968c-20452c498438",
   "metadata": {},
   "outputs": [
    {
     "name": "stdout",
     "output_type": "stream",
     "text": [
      "Here's the current list!\n",
      "[0, 1, 2]\n"
     ]
    }
   ],
   "source": [
    "display(game_list)"
   ]
  },
  {
   "cell_type": "code",
   "execution_count": 12,
   "id": "f97d08d4-a84e-437f-b550-8e7ddea54247",
   "metadata": {},
   "outputs": [],
   "source": [
    "def position_choice():\n",
    "    choice = \"Hello\"\n",
    "\n",
    "    while choice not in [\"0\",\"1\",\"2\"]:\n",
    "\n",
    "        choice = input(\"Enter a number between 0,1,2: \")\n",
    "\n",
    "        if choice in [\"0\",\"1\",\"2\"]:\n",
    "            return int(choice) \n",
    "        else: \n",
    "            print(\"Sorry, invalid input! Try Again\")"
   ]
  },
  {
   "cell_type": "code",
   "execution_count": 13,
   "id": "b041b797-a6f5-4ff0-984d-53942a93f214",
   "metadata": {},
   "outputs": [
    {
     "name": "stdin",
     "output_type": "stream",
     "text": [
      "Enter a number between 0,1,2:  1\n"
     ]
    },
    {
     "data": {
      "text/plain": [
       "1"
      ]
     },
     "execution_count": 13,
     "metadata": {},
     "output_type": "execute_result"
    }
   ],
   "source": [
    "position_choice()"
   ]
  },
  {
   "cell_type": "code",
   "execution_count": 31,
   "id": "f6741246-2a0d-49b5-974d-3e41c7253d6e",
   "metadata": {},
   "outputs": [],
   "source": [
    "def replacement(game_list,position):\n",
    "    new_string = input(\"Enter a string to replace a value: \")\n",
    "\n",
    "    game_list[position] = new_string\n",
    "\n",
    "    return game_list"
   ]
  },
  {
   "cell_type": "code",
   "execution_count": 33,
   "id": "562034dc-a776-4775-8ed4-5ed5c25ffcda",
   "metadata": {},
   "outputs": [
    {
     "name": "stdin",
     "output_type": "stream",
     "text": [
      "Enter a string to replace a value:  wer\n"
     ]
    },
    {
     "data": {
      "text/plain": [
       "[0, 'joke', 'wer']"
      ]
     },
     "execution_count": 33,
     "metadata": {},
     "output_type": "execute_result"
    }
   ],
   "source": [
    "replacement(game_list,2)"
   ]
  },
  {
   "cell_type": "raw",
   "id": "3ceba229-a001-4cbe-96a7-1a2efdfdd4fe",
   "metadata": {},
   "source": []
  },
  {
   "cell_type": "code",
   "execution_count": 34,
   "id": "e16c1e9c-beaf-45bd-9241-d00d8e6b54e5",
   "metadata": {},
   "outputs": [],
   "source": [
    "def game_on_choice():\n",
    "    user_input = input(\"Enter either Y or N: \")\n",
    "\n",
    "    if user_input == \"Y\":\n",
    "        return True\n",
    "    else:\n",
    "        return False"
   ]
  },
  {
   "cell_type": "code",
   "execution_count": 36,
   "id": "33cc5a5e-48d4-418c-b082-1f746968c69d",
   "metadata": {},
   "outputs": [
    {
     "name": "stdout",
     "output_type": "stream",
     "text": [
      "Here's the current list!\n",
      "[0, 1, 2]\n"
     ]
    },
    {
     "name": "stdin",
     "output_type": "stream",
     "text": [
      "Enter a number between 0,1,2:  2\n",
      "Enter a string to replace a value:  hell\n"
     ]
    },
    {
     "name": "stdout",
     "output_type": "stream",
     "text": [
      "Here's the current list!\n",
      "[0, 1, 'hell']\n"
     ]
    },
    {
     "name": "stdin",
     "output_type": "stream",
     "text": [
      "Enter either Y or N:  N\n"
     ]
    }
   ],
   "source": [
    "game_list = [0,1,2]\n",
    "game_on = True\n",
    "\n",
    "while game_on:\n",
    "    display(game_list)\n",
    "    \n",
    "    position = position_choice()\n",
    "\n",
    "    replacement(game_list, position)\n",
    "\n",
    "    display(game_list)\n",
    "\n",
    "    game_on = game_on_choice()"
   ]
  },
  {
   "cell_type": "code",
   "execution_count": null,
   "id": "045230a8-e8d5-491a-a788-e0fbb700a8f5",
   "metadata": {},
   "outputs": [],
   "source": []
  }
 ],
 "metadata": {
  "kernelspec": {
   "display_name": "Python 3 (ipykernel)",
   "language": "python",
   "name": "python3"
  },
  "language_info": {
   "codemirror_mode": {
    "name": "ipython",
    "version": 3
   },
   "file_extension": ".py",
   "mimetype": "text/x-python",
   "name": "python",
   "nbconvert_exporter": "python",
   "pygments_lexer": "ipython3",
   "version": "3.11.7"
  }
 },
 "nbformat": 4,
 "nbformat_minor": 5
}
