{
 "cells": [
  {
   "cell_type": "code",
   "execution_count": 1,
   "id": "3379220c-1de2-48f1-a097-eddf9ceb420d",
   "metadata": {},
   "outputs": [],
   "source": [
    "def primes_count(num):\n",
    "    # Using this function we will be counting prime numbers within a specified input natural number.\n",
    "    # By definition, 0 and 1 are not prime numbers. So, we will not be considering them. \n",
    "\n",
    "    if num < 2:\n",
    "        return False\n",
    "    # 2 is the 1st prime number. So let's create a list of prime with 2 as the 1st element in it. \n",
    "    primes = [2]\n",
    "    # let's start the determining prime number from 3. \n",
    "    x = 3\n",
    "    # since 2 is a prime number and any number divisible by 2 will not be a prime. \n",
    "    # effectively, no prime number except 2 can be a prime. So we will eliminate them from the process\n",
    "    # to increase efficiency of the execution. \n",
    "    \n",
    "    while x <= num: \n",
    "        for y in range(3,x,2):\n",
    "            if x%y == 0: \n",
    "                x+=2\n",
    "                break\n",
    "        else: \n",
    "            primes.append(x)\n",
    "            x+=2\n",
    "    print(primes)\n",
    "    return len(primes)\n"
   ]
  },
  {
   "cell_type": "code",
   "execution_count": null,
   "id": "5659fd8e-9bb3-42d8-ab25-b636f20deffe",
   "metadata": {},
   "outputs": [],
   "source": []
  },
  {
   "cell_type": "code",
   "execution_count": null,
   "id": "509dfe58-fdf0-4eb2-9ba8-7b489ec5c8d9",
   "metadata": {},
   "outputs": [],
   "source": []
  }
 ],
 "metadata": {
  "kernelspec": {
   "display_name": "Python 3 (ipykernel)",
   "language": "python",
   "name": "python3"
  },
  "language_info": {
   "codemirror_mode": {
    "name": "ipython",
    "version": 3
   },
   "file_extension": ".py",
   "mimetype": "text/x-python",
   "name": "python",
   "nbconvert_exporter": "python",
   "pygments_lexer": "ipython3",
   "version": "3.11.7"
  }
 },
 "nbformat": 4,
 "nbformat_minor": 5
}
