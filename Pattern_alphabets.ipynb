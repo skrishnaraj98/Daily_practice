{
 "cells": [
  {
   "cell_type": "code",
   "execution_count": 19,
   "id": "0314dc12-16cb-408b-acd1-492e3b13a8f7",
   "metadata": {},
   "outputs": [],
   "source": [
    "def draw_pattern(letter):\n",
    "    patterns = {1: \"*    \", 2: \"*****\", 3: \"  *  \", 4: \"    *\", 5: \" *** \",6: \"*   *\"}\n",
    "    designs = {\"A\": [3,6,2,6,6], \"B\": [2,6,2,6,2], \"C\": [2,1,1,1,2], \"D\": [2,6,6,6,2], \"E\": [2,1,2,1,2]}\n",
    "    for i in designs[letter]:\n",
    "        print(patterns[i])"
   ]
  },
  {
   "cell_type": "code",
   "execution_count": 27,
   "id": "0c71bf67-43e9-46b0-a033-9083072cf100",
   "metadata": {},
   "outputs": [
    {
     "name": "stdout",
     "output_type": "stream",
     "text": [
      "  *  \n",
      "*   *\n",
      "*****\n",
      "*   *\n",
      "*   *\n"
     ]
    }
   ],
   "source": [
    "draw_pattern(\"A\")"
   ]
  },
  {
   "cell_type": "code",
   "execution_count": null,
   "id": "fd20e473-2729-45c5-96f0-c9312efb51ed",
   "metadata": {},
   "outputs": [],
   "source": []
  }
 ],
 "metadata": {
  "kernelspec": {
   "display_name": "Python 3 (ipykernel)",
   "language": "python",
   "name": "python3"
  },
  "language_info": {
   "codemirror_mode": {
    "name": "ipython",
    "version": 3
   },
   "file_extension": ".py",
   "mimetype": "text/x-python",
   "name": "python",
   "nbconvert_exporter": "python",
   "pygments_lexer": "ipython3",
   "version": "3.11.7"
  }
 },
 "nbformat": 4,
 "nbformat_minor": 5
}
