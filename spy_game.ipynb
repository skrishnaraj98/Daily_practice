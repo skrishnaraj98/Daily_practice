{
 "cells": [
  {
   "cell_type": "code",
   "execution_count": 4,
   "id": "99de1a8e-4049-4dbd-a55c-f5be1b76e878",
   "metadata": {},
   "outputs": [],
   "source": [
    "def spy_game(list):\n",
    "    final_list = [0,0,7]\n",
    "    new_list = []\n",
    "\n",
    "    for num in list:\n",
    "        if num == 0:\n",
    "            new_list.append(num)\n",
    "        if num == 7:\n",
    "            new_list.append(num)\n",
    "    return new_list == final_list"
   ]
  },
  {
   "cell_type": "code",
   "execution_count": 5,
   "id": "f7991e31-f23c-4354-a6a9-6e0ba86b6f82",
   "metadata": {},
   "outputs": [
    {
     "data": {
      "text/plain": [
       "False"
      ]
     },
     "execution_count": 5,
     "metadata": {},
     "output_type": "execute_result"
    }
   ],
   "source": [
    "spy_game([1,2,3,4])"
   ]
  },
  {
   "cell_type": "code",
   "execution_count": 6,
   "id": "3613b4d8-ea5b-4f41-8f63-233ca531b076",
   "metadata": {},
   "outputs": [
    {
     "data": {
      "text/plain": [
       "True"
      ]
     },
     "execution_count": 6,
     "metadata": {},
     "output_type": "execute_result"
    }
   ],
   "source": [
    "spy_game([1,2,4,0,0,7])"
   ]
  },
  {
   "cell_type": "code",
   "execution_count": 7,
   "id": "91b6d4e7-5cfa-4643-ba06-d924286b98ce",
   "metadata": {},
   "outputs": [
    {
     "data": {
      "text/plain": [
       "True"
      ]
     },
     "execution_count": 7,
     "metadata": {},
     "output_type": "execute_result"
    }
   ],
   "source": [
    "spy_game([1,2,3,0,234,23,45,0,45,1,23,7])"
   ]
  },
  {
   "cell_type": "code",
   "execution_count": null,
   "id": "3f8a2581-bde5-4395-b660-59fd0f2b3ee0",
   "metadata": {},
   "outputs": [],
   "source": [
    "def spy_game(list):\n",
    "    final_"
   ]
  }
 ],
 "metadata": {
  "kernelspec": {
   "display_name": "Python 3 (ipykernel)",
   "language": "python",
   "name": "python3"
  },
  "language_info": {
   "codemirror_mode": {
    "name": "ipython",
    "version": 3
   },
   "file_extension": ".py",
   "mimetype": "text/x-python",
   "name": "python",
   "nbconvert_exporter": "python",
   "pygments_lexer": "ipython3",
   "version": "3.11.7"
  }
 },
 "nbformat": 4,
 "nbformat_minor": 5
}
