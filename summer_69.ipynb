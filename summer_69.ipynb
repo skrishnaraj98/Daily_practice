{
 "cells": [
  {
   "cell_type": "code",
   "execution_count": null,
   "id": "9433144f-5743-49f0-8271-b1a479f7c1a0",
   "metadata": {},
   "outputs": [],
   "source": [
    "def summer_of_69(arrays):\n",
    "    total = 0 ## the sum of arrays elements except 6,9 and numbers between them.\n",
    "    add = True # a condition we are using to utilize within the loop. \n",
    "\n",
    "    for num in arrays:\n",
    "        while add: \n",
    "            if num != 6:\n",
    "                total += num\n",
    "                break\n",
    "            else: \n",
    "                add = False\n",
    "        while not add: \n",
    "            if num != 9: \n",
    "                break\n",
    "            else: \n",
    "                add = True\n",
    "            "
   ]
  }
 ],
 "metadata": {
  "kernelspec": {
   "display_name": "Python 3 (ipykernel)",
   "language": "python",
   "name": "python3"
  },
  "language_info": {
   "codemirror_mode": {
    "name": "ipython",
    "version": 3
   },
   "file_extension": ".py",
   "mimetype": "text/x-python",
   "name": "python",
   "nbconvert_exporter": "python",
   "pygments_lexer": "ipython3",
   "version": "3.11.7"
  }
 },
 "nbformat": 4,
 "nbformat_minor": 5
}
