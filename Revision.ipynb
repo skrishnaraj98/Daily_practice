{
 "cells": [
  {
   "cell_type": "code",
   "execution_count": 11,
   "id": "6853431d-8294-4875-a345-1fc8397e9457",
   "metadata": {},
   "outputs": [],
   "source": [
    "# To determine the total prime number from 2 to the inputted number. \n",
    "\n",
    "def count_primes(num):\n",
    "    # since we know 0 and 1 are not prime, so we will rule them out initially. \n",
    "    if num < 2:\n",
    "        return False\n",
    "    primes= [2]\n",
    "    # now as we know 2 is the 1st prime number we have created a list of prime number with 2 as the \n",
    "    #initial element. \n",
    "    x = 3\n",
    "    # let x be the iterator which will go inside a while loop and determing whether it's a prime number or not\n",
    "    while x<= num:\n",
    "        for y in range (3,x,2):\n",
    "            # since we know all even numbers are divisible by 2 and hence cannot be prime, we will\n",
    "            # only consider odd numbers. \n",
    "            if x%y == 0: \n",
    "                x+=2\n",
    "                break\n",
    "        else:\n",
    "            primes.append(x)\n",
    "            x+=2 \n",
    "    print (primes)\n",
    "    return len(primes)"
   ]
  },
  {
   "cell_type": "code",
   "execution_count": 10,
   "id": "f12793cc-3d38-4dc9-9c41-d026f95411b4",
   "metadata": {},
   "outputs": [
    {
     "name": "stdout",
     "output_type": "stream",
     "text": [
      "[2, 3, 5, 7, 11, 13, 17, 19]\n"
     ]
    },
    {
     "data": {
      "text/plain": [
       "8"
      ]
     },
     "execution_count": 10,
     "metadata": {},
     "output_type": "execute_result"
    }
   ],
   "source": [
    "count_primes(20)"
   ]
  },
  {
   "cell_type": "code",
   "execution_count": 3,
   "id": "22adbeb5-0750-4f14-b73f-c51c183d14fa",
   "metadata": {},
   "outputs": [],
   "source": [
    "def pickup(mylist):\n",
    "    total = 0\n",
    "    add = True\n",
    "    for i in mylist:\n",
    "        while add: \n",
    "            if i != 6: \n",
    "                total += i\n",
    "                break\n",
    "            else: \n",
    "                add = False\n",
    "        while not add: \n",
    "            if i != 9: \n",
    "                total += 0\n",
    "                break\n",
    "            else: \n",
    "                add = True\n",
    "    return total"
   ]
  },
  {
   "cell_type": "code",
   "execution_count": 5,
   "id": "afdedf67-3a9e-40cc-8ed9-76ac3c9ba1ea",
   "metadata": {},
   "outputs": [
    {
     "data": {
      "text/plain": [
       "6"
      ]
     },
     "execution_count": 5,
     "metadata": {},
     "output_type": "execute_result"
    }
   ],
   "source": [
    "pickup([1,2,3,6,5,5,5,5,5,5,9])"
   ]
  },
  {
   "cell_type": "code",
   "execution_count": 11,
   "id": "5f14e36a-09fa-4aba-83c8-d044fb1b5c2b",
   "metadata": {},
   "outputs": [],
   "source": [
    "def palindrome_check(word):\n",
    "    word = word.replace(\" \",\"\")\n",
    "    if word == word [::-1]:\n",
    "        return True\n",
    "    else:\n",
    "        return False"
   ]
  },
  {
   "cell_type": "code",
   "execution_count": 14,
   "id": "f5afdcb6-aece-4152-8c6e-e9b2b1f8edff",
   "metadata": {},
   "outputs": [
    {
     "data": {
      "text/plain": [
       "True"
      ]
     },
     "execution_count": 14,
     "metadata": {},
     "output_type": "execute_result"
    }
   ],
   "source": [
    "palindrome_check(\"tene   t\")"
   ]
  },
  {
   "cell_type": "code",
   "execution_count": 15,
   "id": "1efe5615-3353-4da2-bba9-57d0fbba7224",
   "metadata": {},
   "outputs": [],
   "source": [
    "import string\n",
    "def pangram_check(sentence):\n",
    "    alphabet_set = set(string.ascii_lowercase)\n",
    "    sentence_set = set(sentence)\n",
    "\n",
    "    return alphabet_set <= sentence_set\n",
    "        "
   ]
  },
  {
   "cell_type": "code",
   "execution_count": 20,
   "id": "4cb39b5d-265b-4ff7-b575-ce86ccc6aa86",
   "metadata": {},
   "outputs": [
    {
     "data": {
      "text/plain": [
       "True"
      ]
     },
     "execution_count": 20,
     "metadata": {},
     "output_type": "execute_result"
    }
   ],
   "source": [
    "pangram_check(\"The quick brown fox jumps over the lazy dog\")"
   ]
  },
  {
   "cell_type": "code",
   "execution_count": null,
   "id": "78d70569-690e-4067-888e-2e756099a00c",
   "metadata": {},
   "outputs": [],
   "source": []
  }
 ],
 "metadata": {
  "kernelspec": {
   "display_name": "Python 3 (ipykernel)",
   "language": "python",
   "name": "python3"
  },
  "language_info": {
   "codemirror_mode": {
    "name": "ipython",
    "version": 3
   },
   "file_extension": ".py",
   "mimetype": "text/x-python",
   "name": "python",
   "nbconvert_exporter": "python",
   "pygments_lexer": "ipython3",
   "version": "3.11.7"
  }
 },
 "nbformat": 4,
 "nbformat_minor": 5
}
