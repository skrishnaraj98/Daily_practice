{
 "cells": [
  {
   "cell_type": "code",
   "execution_count": 1,
   "id": "385eccfe",
   "metadata": {},
   "outputs": [
    {
     "name": "stdout",
     "output_type": "stream",
     "text": [
      "Overwriting leap_year.py\n"
     ]
    }
   ],
   "source": [
    "%%writefile leap_year.py\n",
    "\n",
    "\"\"\" This code solution is for determining whether a year is a leap year or not.\"\"\"\n",
    "## As you all know, leap year is an year with 366 days in which february month gets an extra day\n",
    "## so to fix the time misalignment in earth's revolution around the sun in the gregorian calender. \n",
    "## Mathematically speaking, a leap year is that year which is divisible by 4 and 400 and not which is \n",
    "## divisble by 100. \n",
    "\n",
    "def is_leap_year(year):\n",
    "    \"\"\"\n",
    "    This function verifies a year as leap year or not a leap year.\n",
    "    :para: year: int - A whole number or year is fed as input. \n",
    "    :return: int - bool - Returns True if year is a leap year and False if not. \n",
    "    \"\"\"\n",
    "    return (year%4 == 0) and (year%100!=0 or year%400==0)"
   ]
  },
  {
   "cell_type": "code",
   "execution_count": 2,
   "id": "24a729db",
   "metadata": {},
   "outputs": [
    {
     "data": {
      "text/plain": [
       "True"
      ]
     },
     "execution_count": 2,
     "metadata": {},
     "output_type": "execute_result"
    }
   ],
   "source": [
    "import leap_year\n",
    "\n",
    "leap_year.is_leap_year(2000)"
   ]
  },
  {
   "cell_type": "code",
   "execution_count": 3,
   "id": "a5947181",
   "metadata": {},
   "outputs": [
    {
     "data": {
      "text/plain": [
       "False"
      ]
     },
     "execution_count": 3,
     "metadata": {},
     "output_type": "execute_result"
    }
   ],
   "source": [
    "leap_year.is_leap_year(1900)"
   ]
  }
 ],
 "metadata": {
  "kernelspec": {
   "display_name": "Python 3 (ipykernel)",
   "language": "python",
   "name": "python3"
  },
  "language_info": {
   "codemirror_mode": {
    "name": "ipython",
    "version": 3
   },
   "file_extension": ".py",
   "mimetype": "text/x-python",
   "name": "python",
   "nbconvert_exporter": "python",
   "pygments_lexer": "ipython3",
   "version": "3.11.5"
  }
 },
 "nbformat": 4,
 "nbformat_minor": 5
}
