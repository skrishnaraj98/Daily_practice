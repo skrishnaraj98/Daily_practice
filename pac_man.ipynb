{
 "cells": [
  {
   "cell_type": "code",
   "execution_count": 5,
   "id": "981d3581",
   "metadata": {},
   "outputs": [
    {
     "name": "stdout",
     "output_type": "stream",
     "text": [
      "Writing pac_man_game.py\n"
     ]
    }
   ],
   "source": [
    "%%writefile pac_man_game.py\n",
    "\n",
    "# Ghost Gobble Game or the legendary PAC MAN\n",
    "# For this task, we have to determine when the PAC MAN game is over and not over, when will\n",
    "# we lose and win. How different parameters affect the end outcome of the game. \n",
    "# the only way of winning this game is to eat all the dots without getting attacked by any of the 4 ghosts. \n",
    "# we have power pellets at corners of the game which blinks forever, eating which PAC MAN gains strength to eat ghosts.  \n",
    "\n",
    "\n",
    "def eat_ghost(power_pellets_active, touch_ghosts):\n",
    "    \"\"\"\n",
    "    Verify whether PAC MAN ate ghosts. \n",
    "    : para power_pellets: bool - tells whether power pellets were active/inactive.\n",
    "    : para touch_ghosts: bool - tells whether PAC MAN touched the ghosts or not. \n",
    "    : return: bool - returns whether PAC MAN was successfull in eating a ghost (TRUE) or loosing a life (FALSE). \n",
    "    \"\"\"\n",
    "    return power_pellets_active and touch_ghosts\n",
    "\n",
    "def score(eating_all_dots, power_pellets_consumed):\n",
    "    \"\"\"\n",
    "    Verify whether PAC MAN ate all the dots and power_pellets in order to win. \n",
    "    : para eating_dots: bool - tells whether PAC MAN has ate all the dots. \n",
    "    : para power_pellets: bool - tells whether all the power pellets were consumed or not.\n",
    "    : return : bool - tells PAC MAN ate all the dots plus power_pellets.\n",
    "    \"\"\"\n",
    "    return eating_all_dots and power_pellets_consumed\n",
    "\n",
    "def win(eat_all_dots, power_pellets_active, touch_ghosts):\n",
    "    \"\"\"\n",
    "    Verify whether with all the parameters PAC MAN has won the game or not.\n",
    "    : para eating_dots: bool - tells whether PAC MAN has ate all the dots. \n",
    "    : para power_pellets: bool - tells whether power pellets were active/inactive.\n",
    "    : para touch_ghosts: bool - tells whether PAC MAN touched the ghosts or not. \n",
    "    : return : bool - tells whether the player has won the game or not. \n",
    "    \"\"\"\n",
    "    return eat_all_dots and not (eat_ghost(power_pellets_active, touch_ghost))"
   ]
  }
 ],
 "metadata": {
  "kernelspec": {
   "display_name": "Python 3 (ipykernel)",
   "language": "python",
   "name": "python3"
  },
  "language_info": {
   "codemirror_mode": {
    "name": "ipython",
    "version": 3
   },
   "file_extension": ".py",
   "mimetype": "text/x-python",
   "name": "python",
   "nbconvert_exporter": "python",
   "pygments_lexer": "ipython3",
   "version": "3.11.5"
  }
 },
 "nbformat": 4,
 "nbformat_minor": 5
}
