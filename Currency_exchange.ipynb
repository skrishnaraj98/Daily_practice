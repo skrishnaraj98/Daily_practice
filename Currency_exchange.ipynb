{
 "cells": [
  {
   "cell_type": "code",
   "execution_count": 1,
   "id": "19fa53ff",
   "metadata": {},
   "outputs": [
    {
     "name": "stdout",
     "output_type": "stream",
     "text": [
      "Overwriting currency_exchange.py\n"
     ]
    }
   ],
   "source": [
    "%%writefile currency_exchange.py\n",
    "\n",
    "## This is a currency exchange problem. \n",
    "# The objective is to generate a code to help in understanding currency exchange.\n",
    "# Using this code, anyone can know how much of a foreign currency they can have with their\n",
    "# domestic currency in case they are planning for a trip to that foreign country. \n",
    "# Before using this code to get that information, you just need to know the currency rate of your \n",
    "# currency against that foreign currency.\n",
    "# For example, if 1 USD = 80 INR, then 1 INR = 1/80 USD ~ 0.012USD \n",
    "# With now basics covered, lets get started. \n",
    "\n",
    "\n",
    "# budget = the total amount you have in domestic currency for exchanging. \n",
    "# exchange_rate = how much domestic currency you need against 1 unit of foreign currency. \n",
    "# number_of_bills = number of foreign currency you can get with the budget you have of a particular denomination. \n",
    "# exchange fees = a small fee charged by the service provider in exchanging your currency. \n",
    "# spread = a small percentage of the exchange rate charged as exchange fees,is yielded by the service provider. \n",
    "# max_exchangeable_amount = Max amount you will recieve of a particular denomination of foreign currency for the budget you have minus the exchange fees. \n",
    "\n",
    "BUDGET = 100 #(in USD)\n",
    "exchange_rate = 1.20 #against Euro~~~ 1 Euro = 1.20 USD\n",
    "\n",
    "def total_amount(budget,exchange_rate):\n",
    "    \"\"\"\n",
    "    :para budget: float - total amount (in float) in domestic currency. \n",
    "    :para exchange_rate: float - equal to 1 unit of foreign currency when compared to the domestic currency\n",
    "    :return: float - divide budget by exchange_rate. \n",
    "    \n",
    "    This function returns the actual amount in foreign currency without any exchange fees against your\n",
    "    domestic currency. \n",
    "    \"\"\"\n",
    "    return (budget / exchange_rate)\n",
    "\n",
    "def number_of_bills(budget,exchange_rate,denomination):\n",
    "    \"\"\"\n",
    "    :para budget: float - total amount (in float) in domestic currency. \n",
    "    :para exchange_rate: float - equal to 1 unit of foreign currency when compared to the domestic currency\n",
    "    :para denomination: int - a currency value which is a whole number decided by the governement of a country. \n",
    "    :return: int - Number of bills or cash of a particular denomination of the foreign currency. \n",
    "    \n",
    "    This function will return the total number of bills you will get within the total exchange amount. \n",
    "    \"\"\"\n",
    "    return int(budget/exchange_rate)//denomination\n",
    "\n",
    "def max_exchangeable_amount(budget,exchange_rate,spread,denomination):\n",
    "    \"\"\"\n",
    "    :para budget: float - total amount (in float) in domestic currency. \n",
    "    :para exchange_rate: float - equal to 1 unit of foreign currency when compared to the domestic currency\n",
    "    :para spread: float - a percentage of exchange rate charged as exchange fees. \n",
    "    :para denomination: int - a currency value which is a whole number decided by the governement of a country. \n",
    "    :return: int - amount derived in a specific denomination within the total exchanged amount. \n",
    "    \n",
    "    This function is aimed to get the maximum amount in a particular denomination of the exchanged amount. \n",
    "    \"\"\"\n",
    "    effective_exchange_rate = exchange_rate*(1+spread/100)\n",
    "    new_exchange_amount = budget / effective_exchange_rate\n",
    "    new_number_of_bills = int(new_exchange_amount/denomination)\n",
    "    maximum_exchangeable_amount = new_number_of_bills * denomination\n",
    "    \n",
    "    return maximum_exchangeable_amount"
   ]
  },
  {
   "cell_type": "code",
   "execution_count": 2,
   "id": "8336d36f",
   "metadata": {},
   "outputs": [],
   "source": [
    "import currency_exchange"
   ]
  },
  {
   "cell_type": "code",
   "execution_count": 8,
   "id": "05ed7a43",
   "metadata": {},
   "outputs": [
    {
     "name": "stdout",
     "output_type": "stream",
     "text": [
      "Amount in Euro:  83.33333333333334\n",
      "Number of bills in foreign currency:  16\n",
      "Max Amount you will get for your 100USD, minus the exchange fees is:  75 Euros\n"
     ]
    }
   ],
   "source": [
    "print(\"Amount in Euro: \", currency_exchange.total_amount(100,1.20))\n",
    "print(\"Number of bills in foreign currency: \",currency_exchange.number_of_bills(100,1.20,5))\n",
    "print(\"Max Amount you will get for your 100USD, minus the exchange fees is: \",currency_exchange.max_exchangeable_amount(100,1.20,10,5),\"Euros\")"
   ]
  }
 ],
 "metadata": {
  "kernelspec": {
   "display_name": "Python 3 (ipykernel)",
   "language": "python",
   "name": "python3"
  },
  "language_info": {
   "codemirror_mode": {
    "name": "ipython",
    "version": 3
   },
   "file_extension": ".py",
   "mimetype": "text/x-python",
   "name": "python",
   "nbconvert_exporter": "python",
   "pygments_lexer": "ipython3",
   "version": "3.11.5"
  }
 },
 "nbformat": 4,
 "nbformat_minor": 5
}
