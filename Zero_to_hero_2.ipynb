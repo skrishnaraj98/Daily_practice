{
 "cells": [
  {
   "cell_type": "code",
   "execution_count": 7,
   "id": "95caba60-5c50-4271-96a0-6cce474c8566",
   "metadata": {},
   "outputs": [],
   "source": [
    "def has_33(arrays):\n",
    "    for i in range(len(arrays)):\n",
    "        if arrays[i] == 3 and arrays[i+1] == 3: \n",
    "            print(\"True\")\n",
    "        else:\n",
    "            pass"
   ]
  },
  {
   "cell_type": "code",
   "execution_count": 8,
   "id": "77c4d286-79ab-4678-9cfe-a2d5b544ad86",
   "metadata": {},
   "outputs": [],
   "source": [
    "has_33([1,2,3,4,4])"
   ]
  },
  {
   "cell_type": "code",
   "execution_count": 9,
   "id": "3a77bd0f-3bb8-49fc-a612-77e02b39362b",
   "metadata": {},
   "outputs": [
    {
     "name": "stdout",
     "output_type": "stream",
     "text": [
      "True\n"
     ]
    }
   ],
   "source": [
    "has_33([1,2,3,3,5])"
   ]
  },
  {
   "cell_type": "code",
   "execution_count": 10,
   "id": "babd996d-ad61-4ad7-b0c2-11e79f4dcd5a",
   "metadata": {},
   "outputs": [],
   "source": [
    "def paper_doll(word):\n",
    "    j=\"\"\n",
    "    for i in word:\n",
    "        j= j + i*3\n",
    "    return j \n",
    "        "
   ]
  },
  {
   "cell_type": "code",
   "execution_count": 11,
   "id": "80f4f4f6-0151-4c6d-8ea5-858736502f09",
   "metadata": {},
   "outputs": [
    {
     "data": {
      "text/plain": [
       "'rrraaajjj'"
      ]
     },
     "execution_count": 11,
     "metadata": {},
     "output_type": "execute_result"
    }
   ],
   "source": [
    "paper_doll(\"raj\")"
   ]
  },
  {
   "cell_type": "code",
   "execution_count": 25,
   "id": "2f10a79b-9d84-4408-8262-97184617e052",
   "metadata": {},
   "outputs": [],
   "source": [
    "def summer_69(arrays):\n",
    "    j=0\n",
    "    for i in arrays:\n",
    "        j == arrays.index(6)\n",
    "        j1== arrays.index(9)\n",
    "        \n",
    "        "
   ]
  },
  {
   "cell_type": "code",
   "execution_count": 26,
   "id": "303aa103-b05f-4277-a1ff-7460a02851d8",
   "metadata": {},
   "outputs": [
    {
     "name": "stdout",
     "output_type": "stream",
     "text": [
      "0\n"
     ]
    }
   ],
   "source": [
    "summer_69([1,6,2,9,10])"
   ]
  },
  {
   "cell_type": "code",
   "execution_count": null,
   "id": "4b142d05-594d-4258-a4b0-fccf1a4f0d0d",
   "metadata": {},
   "outputs": [],
   "source": []
  },
  {
   "cell_type": "code",
   "execution_count": null,
   "id": "bb765f6f-3c68-494d-b4fb-831975f6094e",
   "metadata": {},
   "outputs": [],
   "source": []
  }
 ],
 "metadata": {
  "kernelspec": {
   "display_name": "Python 3 (ipykernel)",
   "language": "python",
   "name": "python3"
  },
  "language_info": {
   "codemirror_mode": {
    "name": "ipython",
    "version": 3
   },
   "file_extension": ".py",
   "mimetype": "text/x-python",
   "name": "python",
   "nbconvert_exporter": "python",
   "pygments_lexer": "ipython3",
   "version": "3.11.7"
  }
 },
 "nbformat": 4,
 "nbformat_minor": 5
}
