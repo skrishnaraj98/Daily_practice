{
 "cells": [
  {
   "cell_type": "code",
   "execution_count": 26,
   "id": "f89f3ba9-0cf1-400e-8781-468eaf1f6cad",
   "metadata": {},
   "outputs": [],
   "source": [
    "def triangle_equality(sides):\n",
    "    a,b,c = sorted(sides)\n",
    "    print(a,b,c)\n",
    "    if a>0 and a+b>c:\n",
    "        return True\n",
    "    else: \n",
    "        return False\n",
    "\n",
    "def equilateral(sides):\n",
    "    triangle_equality(sides)\n",
    "    return len(set(sides))==1\n",
    "\n",
    "def isosceles(sides):\n",
    "    triangle_equality(sides)\n",
    "    return len(set(sides))<=2\n",
    "    \n",
    "def scalene(sides):\n",
    "    triangle_equality(sides)\n",
    "    return len(set(sides))==3"
   ]
  },
  {
   "cell_type": "code",
   "execution_count": 28,
   "id": "fadd6d33-43c6-4393-8214-e8cad5933429",
   "metadata": {},
   "outputs": [
    {
     "name": "stdout",
     "output_type": "stream",
     "text": [
      "8 10 11\n"
     ]
    },
    {
     "data": {
      "text/plain": [
       "True"
      ]
     },
     "execution_count": 28,
     "metadata": {},
     "output_type": "execute_result"
    }
   ],
   "source": [
    "triangle_equality((10,8,11))"
   ]
  },
  {
   "cell_type": "code",
   "execution_count": 23,
   "id": "5f68b7e9-b870-4222-9b61-2e89f9bdc95a",
   "metadata": {},
   "outputs": [
    {
     "data": {
      "text/plain": [
       "True"
      ]
     },
     "execution_count": 23,
     "metadata": {},
     "output_type": "execute_result"
    }
   ],
   "source": [
    "equilateral([10,10,10])"
   ]
  },
  {
   "cell_type": "code",
   "execution_count": 24,
   "id": "006e29ba-37e1-4864-a7b7-51df5e817457",
   "metadata": {},
   "outputs": [
    {
     "data": {
      "text/plain": [
       "False"
      ]
     },
     "execution_count": 24,
     "metadata": {},
     "output_type": "execute_result"
    }
   ],
   "source": [
    "isosceles([10,9,11])"
   ]
  },
  {
   "cell_type": "code",
   "execution_count": 25,
   "id": "b060c984-5c8a-4540-85bf-b2790b5e82f0",
   "metadata": {},
   "outputs": [
    {
     "data": {
      "text/plain": [
       "True"
      ]
     },
     "execution_count": 25,
     "metadata": {},
     "output_type": "execute_result"
    }
   ],
   "source": [
    "scalene([10,8,7])"
   ]
  },
  {
   "cell_type": "code",
   "execution_count": 1,
   "id": "7cf9b6f2-5f59-4f31-b6fe-d08bcd3ac739",
   "metadata": {},
   "outputs": [],
   "source": [
    "def grains_on_the_box(number):\n",
    "    box_number = 0\n",
    "    grains = 1\n",
    "    for i in range(1,65):\n",
    "        box_number+=1\n",
    "        if box_number == number: \n",
    "            return grains\n",
    "        grains *=2\n",
    "\n",
    "def total_grains():\n",
    "    total = 0\n",
    "    for i in range(1,65):\n",
    "        total+=grains_on_the_box(i)\n",
    "    return total"
   ]
  },
  {
   "cell_type": "code",
   "execution_count": 2,
   "id": "58b91669-456e-4692-b6ff-11035bab567d",
   "metadata": {},
   "outputs": [
    {
     "data": {
      "text/plain": [
       "9223372036854775808"
      ]
     },
     "execution_count": 2,
     "metadata": {},
     "output_type": "execute_result"
    }
   ],
   "source": [
    "grains_on_the_box(64)"
   ]
  },
  {
   "cell_type": "code",
   "execution_count": 3,
   "id": "8fd800d7-1b4b-43f1-9e29-18edc0ec5fd4",
   "metadata": {},
   "outputs": [
    {
     "data": {
      "text/plain": [
       "18446744073709551615"
      ]
     },
     "execution_count": 3,
     "metadata": {},
     "output_type": "execute_result"
    }
   ],
   "source": [
    "total_grains()"
   ]
  },
  {
   "cell_type": "code",
   "execution_count": 4,
   "id": "02417798-d7ad-4058-8f2b-908862a60a39",
   "metadata": {},
   "outputs": [
    {
     "data": {
      "text/plain": [
       "18446744073709551615"
      ]
     },
     "execution_count": 4,
     "metadata": {},
     "output_type": "execute_result"
    }
   ],
   "source": [
    "total_grains()"
   ]
  },
  {
   "cell_type": "code",
   "execution_count": 18,
   "id": "b2c16501-3d50-49e2-b6d0-43fdf1e7e372",
   "metadata": {},
   "outputs": [],
   "source": [
    "def armstrong(number): \n",
    "    number_new= str(number)\n",
    "    power = len(number_new)\n",
    "    lis = 0\n",
    "    for i in range(len(number_new)):\n",
    "        lis +=int(number_new[i])**power\n",
    "    return lis == number\n",
    "        "
   ]
  },
  {
   "cell_type": "code",
   "execution_count": 19,
   "id": "9d1be759-c6d8-427c-8cc4-35548c1a9ae2",
   "metadata": {},
   "outputs": [
    {
     "data": {
      "text/plain": [
       "False"
      ]
     },
     "execution_count": 19,
     "metadata": {},
     "output_type": "execute_result"
    }
   ],
   "source": [
    "armstrong(154)"
   ]
  },
  {
   "cell_type": "code",
   "execution_count": 26,
   "id": "6343d09e-26e3-4f84-8172-51749bf0f7c2",
   "metadata": {},
   "outputs": [],
   "source": [
    "def colatz(number):\n",
    "    if number<=0:\n",
    "        raise ValueError(\"Only positive integers are allowed\")\n",
    "    steps = 0\n",
    "    while number!=1:\n",
    "        steps+=1\n",
    "        if number%2==0:\n",
    "            number = number/2\n",
    "        else: \n",
    "            number = 3*number + 1   \n",
    "    return steps"
   ]
  },
  {
   "cell_type": "code",
   "execution_count": 27,
   "id": "be08e896-59fd-40ec-9065-6d93b7cbc4b7",
   "metadata": {},
   "outputs": [
    {
     "name": "stdout",
     "output_type": "stream",
     "text": [
      "10\n",
      "5.0\n",
      "16.0\n",
      "8.0\n",
      "4.0\n",
      "2.0\n"
     ]
    },
    {
     "data": {
      "text/plain": [
       "6"
      ]
     },
     "execution_count": 27,
     "metadata": {},
     "output_type": "execute_result"
    }
   ],
   "source": [
    "colatz(10)"
   ]
  },
  {
   "cell_type": "code",
   "execution_count": 47,
   "id": "e0ff1f74-2ea8-45d2-a04e-586ef9912888",
   "metadata": {},
   "outputs": [],
   "source": [
    "def exchange_value(budget, exchange_rate):\n",
    "    return budget/exchange_rate\n",
    "\n",
    "def number_of_bills(budget, exchange_rate, denomination):\n",
    "    return int(exchange_value(budget,exchange_rate) //denomination)\n",
    "\n",
    "def exchangeable_value(budget, exchange_rate, spread, denomination):\n",
    "    new_exchange_rate = exchange_rate*(1+spread/100)\n",
    "    bills_in_number = number_of_bills(budget, new_exchange_rate, denomination)\n",
    "    max_exchangeable_value = bills_in_number * denomination\n",
    "    return max_exchangeable_value\n",
    "\n",
    "def charges(budget, exchange_rate, spread, denomination):\n",
    "    return (budget/exchange_rate) - (exchangeable_value(budget, exchange_rate, spread, denomination)) "
   ]
  },
  {
   "cell_type": "code",
   "execution_count": 48,
   "id": "1700352d-20ba-4f63-bb48-dfbb89110ab8",
   "metadata": {},
   "outputs": [
    {
     "data": {
      "text/plain": [
       "78"
      ]
     },
     "execution_count": 48,
     "metadata": {},
     "output_type": "execute_result"
    }
   ],
   "source": [
    "number_of_bills(100,0.01275,100)"
   ]
  },
  {
   "cell_type": "code",
   "execution_count": 49,
   "id": "bdc93cf9-27bb-4d0e-a2b8-410314fb3f25",
   "metadata": {},
   "outputs": [
    {
     "data": {
      "text/plain": [
       "7130"
      ]
     },
     "execution_count": 49,
     "metadata": {},
     "output_type": "execute_result"
    }
   ],
   "source": [
    "exchangeable_value(100,0.01275,10,10)"
   ]
  },
  {
   "cell_type": "code",
   "execution_count": 61,
   "id": "05e7a394-c462-44aa-b29b-060884541fea",
   "metadata": {},
   "outputs": [
    {
     "data": {
      "text/plain": [
       "743.1372549019616"
      ]
     },
     "execution_count": 61,
     "metadata": {},
     "output_type": "execute_result"
    }
   ],
   "source": [
    "charges(100,0.01275,10,100)"
   ]
  },
  {
   "cell_type": "code",
   "execution_count": null,
   "id": "44839eda-aee3-4fad-a256-24d1b5e5ec96",
   "metadata": {},
   "outputs": [],
   "source": []
  }
 ],
 "metadata": {
  "kernelspec": {
   "display_name": "Python 3 (ipykernel)",
   "language": "python",
   "name": "python3"
  },
  "language_info": {
   "codemirror_mode": {
    "name": "ipython",
    "version": 3
   },
   "file_extension": ".py",
   "mimetype": "text/x-python",
   "name": "python",
   "nbconvert_exporter": "python",
   "pygments_lexer": "ipython3",
   "version": "3.11.7"
  }
 },
 "nbformat": 4,
 "nbformat_minor": 5
}
