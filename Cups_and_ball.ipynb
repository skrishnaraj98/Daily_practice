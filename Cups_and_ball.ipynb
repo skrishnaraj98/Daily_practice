{
 "cells": [
  {
   "cell_type": "code",
   "execution_count": 9,
   "id": "2cc88825-6927-41a7-a737-d81a9f499b22",
   "metadata": {},
   "outputs": [
    {
     "name": "stdin",
     "output_type": "stream",
     "text": [
      "Enter a number which amongst 0,1 or 2:  1\n"
     ]
    },
    {
     "data": {
      "text/plain": [
       "('You have guessed right!', ['', '0', ''])"
      ]
     },
     "execution_count": 9,
     "metadata": {},
     "output_type": "execute_result"
    }
   ],
   "source": [
    "## We will code a simple game of cups and ball. In which 3 cups will be placed upside down\n",
    "# only one cup out of the 3 will have the ball. We have to guess the right cup holding the ball. \n",
    "# we will code this in a very fundamental way. We will use a list with three values. \n",
    "# 2 empty strings and one value with a value. \n",
    "\n",
    "\n",
    "\n",
    "initial_list = [\"\",\"0\",\"\"] # this is the initial state with middle cup holding the ball. \n",
    "\n",
    "from random import shuffle   \n",
    "#random is a module which has many functions within it, shuffle is one function which we\n",
    "# will be using to shuffle the list to mimic the randomness of the original game.\n",
    "\n",
    "def shuffled_list(initial_list):\n",
    "    shuffle(initial_list)\n",
    "    return initial_list\n",
    "\n",
    "final_list=shuffled_list(initial_list)\n",
    "\n",
    "def player_guess():\n",
    "    guess = \"\"\n",
    "    while guess not in [\"0\",\"1\",\"2\"]:\n",
    "        guess = input(\"Enter a number which amongst 0,1 or 2: \")\n",
    "        if guess in [\"0\",\"1\",\"2\"]:\n",
    "            break\n",
    "    return int(guess)\n",
    "\n",
    "guess_index = player_guess()\n",
    "\n",
    "def check_guess(final_list,guess_index):\n",
    "    if final_list[guess_index] == \"0\":\n",
    "        return \"You have guessed right!\", final_list\n",
    "    return \"Incorrect guess, Try Again\", final_list\n",
    "\n",
    "check_guess(final_list,guess_index)"
   ]
  },
  {
   "cell_type": "code",
   "execution_count": 1,
   "id": "168e1b0d-10e1-4932-9eb2-11536761b759",
   "metadata": {},
   "outputs": [
    {
     "name": "stdout",
     "output_type": "stream",
     "text": [
      "Overwriting cups_balls.py\n"
     ]
    }
   ],
   "source": [
    "%%writefile cups_balls.py\n",
    "\n",
    "initial_list = [\"\",\"0\",\"\"]\n",
    "\n",
    "from random import shuffle\n",
    "\n",
    "def shuffled_list(list):\n",
    "    shuffle(list)\n",
    "    return list\n",
    "\n",
    "final_list = shuffled_list(initial_list)\n",
    "\n",
    "def player_guess():\n",
    "    guess = \"\"\n",
    "\n",
    "    while guess not in [\"0\",\"1\",\"2\"]:\n",
    "        guess = input(\"Enter a number between 0,1 or 2: \")\n",
    "        if guess in [\"0\",\"1\",\"2\"]:\n",
    "            break\n",
    "    return int(guess)\n",
    "\n",
    "player_guess_index = player_guess() \n",
    "\n",
    "def check_guess(final_list,player_guess_index):\n",
    "    if final_list[player_guess_index] == \"0\":\n",
    "        return \"Correct guess!\", final_list\n",
    "    return \"Incorrect Guess!\", final_list\n",
    "\n",
    "check_guess(final_list,player_guess_index)"
   ]
  },
  {
   "cell_type": "code",
   "execution_count": 3,
   "id": "bc69468c-e77f-47b4-9b79-5b10c9385706",
   "metadata": {},
   "outputs": [],
   "source": [
    "import cups_balls"
   ]
  },
  {
   "cell_type": "code",
   "execution_count": 5,
   "id": "4e7ab145-f82c-4242-a407-0e340e4b6f19",
   "metadata": {},
   "outputs": [
    {
     "name": "stdin",
     "output_type": "stream",
     "text": [
      "Enter a number between 0,1 or 2:  1\n"
     ]
    },
    {
     "data": {
      "text/plain": [
       "('Correct guess!', ['', '0', ''])"
      ]
     },
     "execution_count": 5,
     "metadata": {},
     "output_type": "execute_result"
    }
   ],
   "source": [
    "initial_list = [\"\",\"0\",\"\"]\n",
    "\n",
    "from random import shuffle\n",
    "\n",
    "def shuffled_list(list):\n",
    "    shuffle(list)\n",
    "    return list\n",
    "\n",
    "final_list = shuffled_list(initial_list)\n",
    "\n",
    "def player_guess():\n",
    "    guess = \"\"\n",
    "\n",
    "    while guess not in [\"0\",\"1\",\"2\"]:\n",
    "        guess = input(\"Enter a number between 0,1 or 2: \")\n",
    "        if guess in [\"0\",\"1\",\"2\"]:\n",
    "            break\n",
    "    return int(guess)\n",
    "\n",
    "player_guess_index = player_guess() \n",
    "\n",
    "def check_guess(final_list,player_guess_index):\n",
    "    if final_list[player_guess_index] == \"0\":\n",
    "        return \"Correct guess!\", final_list\n",
    "    return \"Incorrect Guess!\", final_list\n",
    "\n",
    "check_guess(final_list,player_guess_index)"
   ]
  },
  {
   "cell_type": "code",
   "execution_count": null,
   "id": "1af75996-ec66-4c93-9a06-29704dcf3f5e",
   "metadata": {},
   "outputs": [],
   "source": []
  }
 ],
 "metadata": {
  "kernelspec": {
   "display_name": "Python 3 (ipykernel)",
   "language": "python",
   "name": "python3"
  },
  "language_info": {
   "codemirror_mode": {
    "name": "ipython",
    "version": 3
   },
   "file_extension": ".py",
   "mimetype": "text/x-python",
   "name": "python",
   "nbconvert_exporter": "python",
   "pygments_lexer": "ipython3",
   "version": "3.11.7"
  }
 },
 "nbformat": 4,
 "nbformat_minor": 5
}
