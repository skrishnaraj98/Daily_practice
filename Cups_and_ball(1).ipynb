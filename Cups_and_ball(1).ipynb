{
 "cells": [
  {
   "cell_type": "code",
   "execution_count": 6,
   "id": "2cc88825-6927-41a7-a737-d81a9f499b22",
   "metadata": {},
   "outputs": [
    {
     "name": "stdin",
     "output_type": "stream",
     "text": [
      "Enter a number between 0,1 or 2:  5\n",
      "Enter a number between 0,1 or 2:  7\n",
      "Enter a number between 0,1 or 2:  2\n"
     ]
    },
    {
     "data": {
      "text/plain": [
       "('Incorrect Guess!', ['0', '', ''])"
      ]
     },
     "execution_count": 6,
     "metadata": {},
     "output_type": "execute_result"
    }
   ],
   "source": [
    "## We will code a simple game of cups and ball. In which 3 cups will be placed upside down\n",
    "# only one cup out of the 3 will have the ball. We have to guess the right cup holding the ball. \n",
    "# we will code this in a very fundamental way. We will use a list with three values. \n",
    "# 2 empty strings and one value with a value. \n",
    "\n",
    "initial_list = [\"\",\"0\",\"\"] # this is the initial state with middle cup holding the ball. \n",
    "\n",
    "from random import shuffle   \n",
    "#random is a module which has many functions within it, shuffle is one function which we\n",
    "# will be using to shuffle the list to mimic the randomness of the original game.\n",
    "\n",
    "initial_list = [\"\",\"0\",\"\"]\n",
    "\n",
    "from random import shuffle\n",
    "\n",
    "def shuffled_list(list):\n",
    "    shuffle(list)\n",
    "    return list\n",
    "\n",
    "final_list = shuffled_list(initial_list)\n",
    "\n",
    "def player_guess():\n",
    "    guess = \"\"\n",
    "\n",
    "    while guess not in [\"0\",\"1\",\"2\"]:\n",
    "        guess = input(\"Enter a number between 0,1 or 2: \")\n",
    "        if guess in [\"0\",\"1\",\"2\"]:\n",
    "            break\n",
    "    return int(guess)\n",
    "\n",
    "player_guess_index = player_guess() \n",
    "\n",
    "def check_guess(final_list,player_guess_index):\n",
    "    if final_list[player_guess_index] == \"0\":\n",
    "        return \"Correct guess!\", final_list\n",
    "    return \"Incorrect Guess!\", final_list\n",
    "\n",
    "check_guess(final_list,player_guess_index)"
   ]
  },
  {
   "cell_type": "code",
   "execution_count": null,
   "id": "74c088d4-01f7-4ca5-83cc-6c620fa7ff04",
   "metadata": {},
   "outputs": [],
   "source": []
  }
 ],
 "metadata": {
  "kernelspec": {
   "display_name": "Python 3 (ipykernel)",
   "language": "python",
   "name": "python3"
  },
  "language_info": {
   "codemirror_mode": {
    "name": "ipython",
    "version": 3
   },
   "file_extension": ".py",
   "mimetype": "text/x-python",
   "name": "python",
   "nbconvert_exporter": "python",
   "pygments_lexer": "ipython3",
   "version": "3.11.7"
  }
 },
 "nbformat": 4,
 "nbformat_minor": 5
}
