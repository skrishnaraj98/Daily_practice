{
 "cells": [
  {
   "cell_type": "code",
   "execution_count": 15,
   "id": "0f334e48",
   "metadata": {},
   "outputs": [
    {
     "name": "stdout",
     "output_type": "stream",
     "text": [
      "Overwriting triangle.py\n"
     ]
    }
   ],
   "source": [
    "%%writefile triangle.py\n",
    "\n",
    "## This is a solution code for determining a triangle whether that is equilateral, isosceles or scalene\n",
    "## but first only if the dimensions meet the criteria for a triangle. \n",
    "\n",
    "\n",
    "def validate(sides):\n",
    "    \"\"\" This function validates whether the sides dimension are valid to form a triangle\n",
    "    and follows triangle inequality.\n",
    "    :return: bool - Returns a bool value only if sides dimensions meet all the conditions of a triangle.\n",
    "    \"\"\"\n",
    "    a,b,c = sides\n",
    "    return a>0 and b>0 and c>0 and (a+b>c) and (a+c>b) and (b+c>a)\n",
    "        \n",
    "def equilateral(sides):\n",
    "    \"\"\"\n",
    "    This function determines whether all sides have equal length ~ or determines whether the triangle\n",
    "    formed is equilateral triangle or not.\n",
    "    :return: bool - Returns bool value whether the triangle is equilateral or not.\n",
    "    \"\"\"\n",
    "    if not validate(sides):\n",
    "        return False\n",
    "    a,b,c = sides\n",
    "    return a==b==c\n",
    "\n",
    "def isosceles(sides):\n",
    "    \"\"\"\n",
    "    This function determines triangle with the input dimensions form an isosceles triangle or not.\n",
    "    :return: bool - Returns bool value whether the triangle is isosceles or not.\n",
    "    \"\"\"\n",
    "    if not validate(sides):\n",
    "        return False\n",
    "    a,b,c = sides\n",
    "    return a==b or a==c or b==c\n",
    "\n",
    "def scalene(sides):\n",
    "       \"\"\"\n",
    "    This function determines triangle with the input dimensions form a scalene triangle or not.\n",
    "    :return: bool - Returns bool value whether the triangle is scalene or not.\n",
    "    \"\"\"\n",
    "    if not validate(sides):\n",
    "        return False\n",
    "    a,b,c = sides\n",
    "    return a!=b and a!=c and b!=c"
   ]
  },
  {
   "cell_type": "code",
   "execution_count": 16,
   "id": "2cf82b4a",
   "metadata": {},
   "outputs": [],
   "source": [
    "import triangle"
   ]
  },
  {
   "cell_type": "code",
   "execution_count": 17,
   "id": "52ea7b2a",
   "metadata": {},
   "outputs": [
    {
     "data": {
      "text/plain": [
       "True"
      ]
     },
     "execution_count": 17,
     "metadata": {},
     "output_type": "execute_result"
    }
   ],
   "source": [
    "triangle.validate((3,4,5))"
   ]
  },
  {
   "cell_type": "code",
   "execution_count": 18,
   "id": "83ecd3a0",
   "metadata": {},
   "outputs": [
    {
     "data": {
      "text/plain": [
       "False"
      ]
     },
     "execution_count": 18,
     "metadata": {},
     "output_type": "execute_result"
    }
   ],
   "source": [
    "triangle.equilateral((3,4,5))"
   ]
  },
  {
   "cell_type": "code",
   "execution_count": 19,
   "id": "51a86c80",
   "metadata": {},
   "outputs": [
    {
     "data": {
      "text/plain": [
       "False"
      ]
     },
     "execution_count": 19,
     "metadata": {},
     "output_type": "execute_result"
    }
   ],
   "source": [
    "triangle.isosceles((3,4,5))"
   ]
  },
  {
   "cell_type": "code",
   "execution_count": 20,
   "id": "34c5563a",
   "metadata": {},
   "outputs": [
    {
     "data": {
      "text/plain": [
       "True"
      ]
     },
     "execution_count": 20,
     "metadata": {},
     "output_type": "execute_result"
    }
   ],
   "source": [
    "triangle.scalene((3,4,5))"
   ]
  },
  {
   "cell_type": "code",
   "execution_count": 21,
   "id": "28b75722",
   "metadata": {},
   "outputs": [],
   "source": [
    "def validate(sides):\n",
    "    \"\"\" This function validates whether the sides dimension are valid to form a triangle\n",
    "    and follows triangle inequality.\n",
    "    :return: bool - Returns a bool value only if sides dimensions meet all the conditions of a             triangle.\n",
    "    \"\"\"\n",
    "    a,b,c = sorted(sides)\n",
    "    return a>0 and a+b>c\n",
    "        \n",
    "def equilateral(sides):\n",
    "    \"\"\"\n",
    "    This function determines whether all sides have equal length ~ or determines whether the triangle\n",
    "    formed is equilateral triangle or not.\n",
    "    :return: bool - Returns bool value whether the triangle is equilateral or not.\n",
    "    \"\"\"\n",
    "    if not validate(sides):\n",
    "        return False\n",
    "    return len(set(sides)) == 1\n",
    "\n",
    "def isosceles(sides):\n",
    "    \"\"\"\n",
    "    This function determines triangle with the input dimensions form an isosceles triangle or not.\n",
    "    :return: bool - Returns bool value whether the triangle is isosceles or not.\n",
    "    \"\"\"\n",
    "    if not validate(sides):\n",
    "        return False\n",
    "    return len(set(sides))<=2\n",
    "\n",
    "def scalene(sides):\n",
    "    \"\"\"\n",
    "    This function determines triangle with the input dimensions form a scalene triangle or not.\n",
    "    :return: bool - Returns bool value whether the triangle is scalene or not.\n",
    "    \"\"\"\n",
    "    if not validate(sides):\n",
    "        return False\n",
    "    return len(set(sides))==3"
   ]
  },
  {
   "cell_type": "code",
   "execution_count": null,
   "id": "aa1dcc57",
   "metadata": {},
   "outputs": [],
   "source": []
  }
 ],
 "metadata": {
  "kernelspec": {
   "display_name": "Python 3 (ipykernel)",
   "language": "python",
   "name": "python3"
  },
  "language_info": {
   "codemirror_mode": {
    "name": "ipython",
    "version": 3
   },
   "file_extension": ".py",
   "mimetype": "text/x-python",
   "name": "python",
   "nbconvert_exporter": "python",
   "pygments_lexer": "ipython3",
   "version": "3.11.5"
  }
 },
 "nbformat": 4,
 "nbformat_minor": 5
}
