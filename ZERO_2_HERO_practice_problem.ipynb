{
 "cells": [
  {
   "cell_type": "code",
   "execution_count": 1,
   "id": "23e23cf5-553d-4ed0-bc48-0d6b029f9f44",
   "metadata": {},
   "outputs": [],
   "source": [
    "def f1(num1,num2):\n",
    "    if num1%2==0 and num2%2==0:\n",
    "        return min(num1,num2)\n",
    "    if num1%2!=0 and num2%2!=0:\n",
    "        return max(num1,num2)\n",
    "    else: \n",
    "        pass"
   ]
  },
  {
   "cell_type": "code",
   "execution_count": 2,
   "id": "4878f254-7def-4c5e-bde1-59fad8cd3287",
   "metadata": {},
   "outputs": [
    {
     "data": {
      "text/plain": [
       "2"
      ]
     },
     "execution_count": 2,
     "metadata": {},
     "output_type": "execute_result"
    }
   ],
   "source": [
    "f1(2,4)"
   ]
  },
  {
   "cell_type": "code",
   "execution_count": 3,
   "id": "d02c1d94-dfb0-49e1-bc9b-af580879ecd6",
   "metadata": {},
   "outputs": [
    {
     "data": {
      "text/plain": [
       "5"
      ]
     },
     "execution_count": 3,
     "metadata": {},
     "output_type": "execute_result"
    }
   ],
   "source": [
    "f1(3,5)"
   ]
  },
  {
   "cell_type": "code",
   "execution_count": 4,
   "id": "ea130c16-4730-4211-932b-62d465afa6ce",
   "metadata": {},
   "outputs": [],
   "source": [
    "def f1(word1,word2):\n",
    "    if word1[0] == word2[0]:\n",
    "        return True\n",
    "    return False"
   ]
  },
  {
   "cell_type": "code",
   "execution_count": 5,
   "id": "6f3a1910-7251-4860-83c5-b7928f811768",
   "metadata": {},
   "outputs": [
    {
     "data": {
      "text/plain": [
       "False"
      ]
     },
     "execution_count": 5,
     "metadata": {},
     "output_type": "execute_result"
    }
   ],
   "source": [
    "f1(\"krishna\",\"india\")"
   ]
  },
  {
   "cell_type": "code",
   "execution_count": 6,
   "id": "d9689549-7068-4649-a0f6-e249352232bd",
   "metadata": {},
   "outputs": [
    {
     "data": {
      "text/plain": [
       "True"
      ]
     },
     "execution_count": 6,
     "metadata": {},
     "output_type": "execute_result"
    }
   ],
   "source": [
    "f1(\"krishna\",\"krish\")"
   ]
  },
  {
   "cell_type": "code",
   "execution_count": 18,
   "id": "7967a402-d364-47b9-8365-f9bf46cc967c",
   "metadata": {},
   "outputs": [],
   "source": [
    "def f1(word):\n",
    "    l = word.split(\" \")\n",
    "    if l[0][0] == l[1][0]:\n",
    "        return True\n",
    "    return False"
   ]
  },
  {
   "cell_type": "code",
   "execution_count": 20,
   "id": "cffc132f-5848-47e9-b40c-808354e99fb5",
   "metadata": {},
   "outputs": [
    {
     "data": {
      "text/plain": [
       "True"
      ]
     },
     "execution_count": 20,
     "metadata": {},
     "output_type": "execute_result"
    }
   ],
   "source": [
    "f1(\"krishna kaj\")"
   ]
  },
  {
   "cell_type": "code",
   "execution_count": 21,
   "id": "6a7c5b87-4906-48d6-83b2-00dc9de1b408",
   "metadata": {},
   "outputs": [],
   "source": [
    "word = \"krishna\"\n",
    "l = list(word)"
   ]
  },
  {
   "cell_type": "code",
   "execution_count": 22,
   "id": "cee0e858-b230-485b-a921-d1f6a5bb2e6c",
   "metadata": {},
   "outputs": [
    {
     "data": {
      "text/plain": [
       "['k', 'r', 'i', 's', 'h', 'n', 'a']"
      ]
     },
     "execution_count": 22,
     "metadata": {},
     "output_type": "execute_result"
    }
   ],
   "source": [
    "l"
   ]
  },
  {
   "cell_type": "code",
   "execution_count": 23,
   "id": "4ccb3ba4-50dd-42b5-9ebd-d3da9603ccec",
   "metadata": {},
   "outputs": [
    {
     "data": {
      "text/plain": [
       "['K', 'r', 'i', 'S', 'h', 'n', 'a']"
      ]
     },
     "execution_count": 23,
     "metadata": {},
     "output_type": "execute_result"
    }
   ],
   "source": [
    "l[0] = l[0].upper()\n",
    "l[3] = l[3].upper()\n",
    "l"
   ]
  },
  {
   "cell_type": "code",
   "execution_count": 24,
   "id": "63714f45-1f09-4b3d-be2b-e5fe237a9174",
   "metadata": {},
   "outputs": [
    {
     "name": "stdout",
     "output_type": "stream",
     "text": [
      "KriShna\n"
     ]
    }
   ],
   "source": [
    "j=\"\"\n",
    "for i in l:\n",
    "    j+=i\n",
    "print(j)"
   ]
  },
  {
   "cell_type": "code",
   "execution_count": 25,
   "id": "4d722aad-d42f-4453-bf19-8f114f5ff60e",
   "metadata": {},
   "outputs": [],
   "source": [
    "def f2(word):\n",
    "    l = list(word)\n",
    "    l[0]=l[0].upper()\n",
    "    l[3]=l[3].upper()\n",
    "    j=\"\"\n",
    "    for i in l: \n",
    "        j+=i\n",
    "    return j"
   ]
  },
  {
   "cell_type": "code",
   "execution_count": 26,
   "id": "2a5796d2-78e3-46b4-8b5e-bf7c04f2a427",
   "metadata": {},
   "outputs": [
    {
     "data": {
      "text/plain": [
       "'KriShna'"
      ]
     },
     "execution_count": 26,
     "metadata": {},
     "output_type": "execute_result"
    }
   ],
   "source": [
    "f2(\"krishna\")"
   ]
  },
  {
   "cell_type": "code",
   "execution_count": 27,
   "id": "7cb8314f-50bb-426e-9e0f-3252cd4502a8",
   "metadata": {},
   "outputs": [
    {
     "data": {
      "text/plain": [
       "'MacDonald'"
      ]
     },
     "execution_count": 27,
     "metadata": {},
     "output_type": "execute_result"
    }
   ],
   "source": [
    "f2(\"macdonald\")"
   ]
  },
  {
   "cell_type": "code",
   "execution_count": 28,
   "id": "414ce88e-a6d3-40ea-a375-4c2d6203bbcb",
   "metadata": {},
   "outputs": [],
   "source": [
    "def f2(word):\n",
    "    new_word = word[::-1]\n",
    "    return new_word"
   ]
  },
  {
   "cell_type": "code",
   "execution_count": 29,
   "id": "150ca869-f2dc-4af3-978a-561210f1983e",
   "metadata": {},
   "outputs": [
    {
     "data": {
      "text/plain": [
       "'!naidnI na ma I'"
      ]
     },
     "execution_count": 29,
     "metadata": {},
     "output_type": "execute_result"
    }
   ],
   "source": [
    "f2(\"I am an Indian!\")"
   ]
  },
  {
   "cell_type": "code",
   "execution_count": 38,
   "id": "729964c3-fed3-4354-ba6b-5e7f79835840",
   "metadata": {},
   "outputs": [],
   "source": [
    "l = \"I am Indian\""
   ]
  },
  {
   "cell_type": "code",
   "execution_count": 39,
   "id": "cfc19e40-9fd6-4e14-86ef-886126ad6de6",
   "metadata": {},
   "outputs": [],
   "source": [
    "l1= l.split(\" \")"
   ]
  },
  {
   "cell_type": "code",
   "execution_count": 40,
   "id": "c23adf2a-4435-49f8-89ba-18521fa126dd",
   "metadata": {},
   "outputs": [
    {
     "data": {
      "text/plain": [
       "3"
      ]
     },
     "execution_count": 40,
     "metadata": {},
     "output_type": "execute_result"
    }
   ],
   "source": [
    "len(l1)"
   ]
  },
  {
   "cell_type": "code",
   "execution_count": 41,
   "id": "0ed8bb80-0da9-4afd-88b8-6895e9926720",
   "metadata": {},
   "outputs": [
    {
     "data": {
      "text/plain": [
       "['I', 'am', 'Indian']"
      ]
     },
     "execution_count": 41,
     "metadata": {},
     "output_type": "execute_result"
    }
   ],
   "source": [
    "l1"
   ]
  },
  {
   "cell_type": "code",
   "execution_count": 49,
   "id": "bfd75f15-eed4-47cb-ae0f-4f7126c641bf",
   "metadata": {},
   "outputs": [],
   "source": [
    "l2= l1[::-1]"
   ]
  },
  {
   "cell_type": "code",
   "execution_count": 51,
   "id": "8edba2b0-f5d2-416a-b3b3-a5c5bb3113cf",
   "metadata": {},
   "outputs": [
    {
     "name": "stdout",
     "output_type": "stream",
     "text": [
      "Indian am I \n"
     ]
    }
   ],
   "source": [
    "j=\"\"\n",
    "for i in l2:\n",
    "    j= j +i + \" \"\n",
    "print(j)\n"
   ]
  },
  {
   "cell_type": "code",
   "execution_count": 63,
   "id": "70e435fd-74fb-478b-b3a9-17de92c31cf4",
   "metadata": {},
   "outputs": [],
   "source": [
    "def f2(sentence): \n",
    "    list_sentence = sentence.split(\" \")\n",
    "    new_list_sentence = list_sentence[::-1]\n",
    "    j = \" \".join(new_list_sentence)\n",
    "    return j"
   ]
  },
  {
   "cell_type": "code",
   "execution_count": 64,
   "id": "164bb7a2-7714-4fd2-bab7-9dc30afcd9db",
   "metadata": {},
   "outputs": [
    {
     "data": {
      "text/plain": [
       "'Indian an am I'"
      ]
     },
     "execution_count": 64,
     "metadata": {},
     "output_type": "execute_result"
    }
   ],
   "source": [
    "f2(\"I am an Indian\")"
   ]
  },
  {
   "cell_type": "code",
   "execution_count": 59,
   "id": "1077ddf8-0e83-4fc4-a785-c1bf55cd2354",
   "metadata": {},
   "outputs": [],
   "source": [
    "def f2(num):\n",
    "    print(abs(num))\n",
    "    if 90<=num<=110 or 190<=num<=210:\n",
    "        return True\n",
    "    return False\n",
    "    "
   ]
  },
  {
   "cell_type": "code",
   "execution_count": 60,
   "id": "4507b0b8-62ce-4d8a-aafd-be6d8613f111",
   "metadata": {},
   "outputs": [
    {
     "name": "stdout",
     "output_type": "stream",
     "text": [
      "193\n"
     ]
    },
    {
     "data": {
      "text/plain": [
       "True"
      ]
     },
     "execution_count": 60,
     "metadata": {},
     "output_type": "execute_result"
    }
   ],
   "source": [
    "f2(193)"
   ]
  },
  {
   "cell_type": "code",
   "execution_count": 56,
   "id": "4b2aad14-4530-43a3-9b5c-96fa902683df",
   "metadata": {},
   "outputs": [
    {
     "data": {
      "text/plain": [
       "False"
      ]
     },
     "execution_count": 56,
     "metadata": {},
     "output_type": "execute_result"
    }
   ],
   "source": [
    "f2(189)"
   ]
  },
  {
   "cell_type": "code",
   "execution_count": 57,
   "id": "4cb2b79d-128d-4df6-a249-7dd849c2697d",
   "metadata": {},
   "outputs": [
    {
     "data": {
      "text/plain": [
       "True"
      ]
     },
     "execution_count": 57,
     "metadata": {},
     "output_type": "execute_result"
    }
   ],
   "source": [
    "f2(109)"
   ]
  },
  {
   "cell_type": "code",
   "execution_count": 58,
   "id": "0874954a-b288-4ff5-8b41-3e380e6a5c36",
   "metadata": {},
   "outputs": [
    {
     "data": {
      "text/plain": [
       "False"
      ]
     },
     "execution_count": 58,
     "metadata": {},
     "output_type": "execute_result"
    }
   ],
   "source": [
    "f2(111)"
   ]
  },
  {
   "cell_type": "code",
   "execution_count": 91,
   "id": "11f9e29c-500d-4222-845f-da7165912809",
   "metadata": {},
   "outputs": [],
   "source": [
    "for i in range(0,10):\n",
    "    \"1\"+\"#\""
   ]
  },
  {
   "cell_type": "code",
   "execution_count": 92,
   "id": "802be599-81fe-4752-b4bf-998594cbee25",
   "metadata": {},
   "outputs": [
    {
     "ename": "TypeError",
     "evalue": "can't multiply sequence by non-int of type 'str'",
     "output_type": "error",
     "traceback": [
      "\u001b[1;31m---------------------------------------------------------------------------\u001b[0m",
      "\u001b[1;31mTypeError\u001b[0m                                 Traceback (most recent call last)",
      "Cell \u001b[1;32mIn[92], line 1\u001b[0m\n\u001b[1;32m----> 1\u001b[0m \u001b[38;5;124m\"\u001b[39m\u001b[38;5;124m11\u001b[39m\u001b[38;5;124m\"\u001b[39m\u001b[38;5;241m*\u001b[39m\u001b[38;5;124m\"\u001b[39m\u001b[38;5;124m2\u001b[39m\u001b[38;5;124m\"\u001b[39m\n",
      "\u001b[1;31mTypeError\u001b[0m: can't multiply sequence by non-int of type 'str'"
     ]
    }
   ],
   "source": [
    "\"11\"*\"2\""
   ]
  },
  {
   "cell_type": "code",
   "execution_count": null,
   "id": "127a2552-fb05-472a-aca4-30ec17b51309",
   "metadata": {},
   "outputs": [],
   "source": []
  }
 ],
 "metadata": {
  "kernelspec": {
   "display_name": "Python 3 (ipykernel)",
   "language": "python",
   "name": "python3"
  },
  "language_info": {
   "codemirror_mode": {
    "name": "ipython",
    "version": 3
   },
   "file_extension": ".py",
   "mimetype": "text/x-python",
   "name": "python",
   "nbconvert_exporter": "python",
   "pygments_lexer": "ipython3",
   "version": "3.11.7"
  }
 },
 "nbformat": 4,
 "nbformat_minor": 5
}
