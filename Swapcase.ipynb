{
 "cells": [
  {
   "cell_type": "code",
   "execution_count": 30,
   "id": "3fa7aaa0-d89b-4651-8fa5-54d2e4fa6cca",
   "metadata": {},
   "outputs": [],
   "source": [
    "def myfunc(word):\n",
    "    word = list(word)\n",
    "    j=\"\"\n",
    "    for i in range(len(word)):\n",
    "        if i % 2 == 0:\n",
    "            word[i] = word[i].upper()\n",
    "            j+=word[i]\n",
    "        else:\n",
    "            word[i]=word[i].lower()\n",
    "            j+=word[i]\n",
    "    return j"
   ]
  },
  {
   "cell_type": "code",
   "execution_count": 31,
   "id": "2b160b20-4f5d-49f7-924a-7495fbb9d3d0",
   "metadata": {},
   "outputs": [
    {
     "data": {
      "text/plain": [
       "'InDiA'"
      ]
     },
     "execution_count": 31,
     "metadata": {},
     "output_type": "execute_result"
    }
   ],
   "source": [
    "myfunc(\"india\")"
   ]
  },
  {
   "cell_type": "code",
   "execution_count": null,
   "id": "e1476675-f2f0-44e4-bfe1-7f1d1ed28fd1",
   "metadata": {},
   "outputs": [],
   "source": []
  }
 ],
 "metadata": {
  "kernelspec": {
   "display_name": "Python 3 (ipykernel)",
   "language": "python",
   "name": "python3"
  },
  "language_info": {
   "codemirror_mode": {
    "name": "ipython",
    "version": 3
   },
   "file_extension": ".py",
   "mimetype": "text/x-python",
   "name": "python",
   "nbconvert_exporter": "python",
   "pygments_lexer": "ipython3",
   "version": "3.11.7"
  }
 },
 "nbformat": 4,
 "nbformat_minor": 5
}
