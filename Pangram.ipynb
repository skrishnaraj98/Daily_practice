{
 "cells": [
  {
   "cell_type": "code",
   "execution_count": 1,
   "id": "a77c077c-3cbe-48a8-aa5e-4aabe224dc0c",
   "metadata": {},
   "outputs": [],
   "source": [
    "def check_pangram(sentence):\n",
    "    import string\n",
    "    alphabet_set = set(string.ascii_lowercase)\n",
    "\n",
    "    return alphabet_set <= set(sentence.lower())"
   ]
  },
  {
   "cell_type": "code",
   "execution_count": 2,
   "id": "992e3170-3a5a-4d5c-8c13-d2311b8da978",
   "metadata": {},
   "outputs": [
    {
     "data": {
      "text/plain": [
       "False"
      ]
     },
     "execution_count": 2,
     "metadata": {},
     "output_type": "execute_result"
    }
   ],
   "source": [
    "check_pangram(\"I am Python coder\")"
   ]
  },
  {
   "cell_type": "code",
   "execution_count": 3,
   "id": "f80a5df5-d699-45ee-bdf7-31b084edc517",
   "metadata": {},
   "outputs": [
    {
     "data": {
      "text/plain": [
       "True"
      ]
     },
     "execution_count": 3,
     "metadata": {},
     "output_type": "execute_result"
    }
   ],
   "source": [
    "check_pangram(\"The quick brown fox jumps over the lazy dog\")"
   ]
  },
  {
   "cell_type": "code",
   "execution_count": 4,
   "id": "dff45d29-65bd-462f-8f5f-85123d7f9bde",
   "metadata": {},
   "outputs": [],
   "source": [
    "def check_pangram(l):\n",
    "    import string\n",
    "    alphabet = string.ascii_lowercase\n",
    "    if \" \" in l:\n",
    "        l = l.replace(\" \", \"\")\n",
    "    for i in alphabet:\n",
    "        if i in l.lower():\n",
    "            pass\n",
    "        else: \n",
    "            return False\n",
    "    return True    "
   ]
  },
  {
   "cell_type": "code",
   "execution_count": null,
   "id": "97847232-a91a-476c-86d1-998692e18604",
   "metadata": {},
   "outputs": [],
   "source": []
  }
 ],
 "metadata": {
  "kernelspec": {
   "display_name": "Python 3 (ipykernel)",
   "language": "python",
   "name": "python3"
  },
  "language_info": {
   "codemirror_mode": {
    "name": "ipython",
    "version": 3
   },
   "file_extension": ".py",
   "mimetype": "text/x-python",
   "name": "python",
   "nbconvert_exporter": "python",
   "pygments_lexer": "ipython3",
   "version": "3.11.7"
  }
 },
 "nbformat": 4,
 "nbformat_minor": 5
}
