{
 "cells": [
  {
   "cell_type": "code",
   "execution_count": 1,
   "id": "67d2a27d",
   "metadata": {},
   "outputs": [
    {
     "name": "stdout",
     "output_type": "stream",
     "text": [
      "Overwriting lasagna_prep.py\n"
     ]
    }
   ],
   "source": [
    "%%writefile lasagna_prep.py\n",
    "\n",
    "# This is a very basic python code to write a logic to understand how much time it takes \n",
    "# to make a lasagna dish within certain explicit conditions. \n",
    "\n",
    "EXPECTED_BAKE_TIME=60      #in minutes\n",
    "EXPECTED_PREP_TIME=2       #in minutes for a single layer of lasagna\n",
    "\n",
    "def bake_time(spent_time):\n",
    "    \"\"\"\n",
    "    :param spent_time: int - baking time elapsed. \n",
    "    :return: int - total baking time elapsed. \n",
    "    \n",
    "    This function takes in an int argument (in minutes) which represents the baking time elapsed. \n",
    "    And returns the baking time in minutes. \n",
    "    \n",
    "    \"\"\"\n",
    "    return spent_time\n",
    "\n",
    "def remaining_time(spent_time):\n",
    "    \"\"\"\n",
    "    This function doesn't have any parameters and returns the remaining time from EXPECTED_BAKE_TIME.\n",
    "    \n",
    "    \"\"\"\n",
    "    return EXPECTED_BAKE_TIME - spent_time\n",
    "\n",
    "def prepartion_time(layers): \n",
    "    \"\"\"\n",
    "    :param layers: int - represents the number of layer that we wish to add within the dish. \n",
    "    :return: int - represents the total time (in minutes) in preparing the layers of the dish. \n",
    "    \n",
    "    This function takes in layers as the arguments representing the number of layers and then returns\n",
    "    the time in minutes it takes to prepare all of the layers for the lasagna dish. \n",
    "    \n",
    "    \"\"\"\n",
    "    return layers*EXPECTED_PREP_TIME\n",
    "\n",
    "def total_time_elapsed(layers, spent_time):\n",
    "    \"\"\"\n",
    "    This function doesn't take any arguments and returns the total time (prep+bake) elapsed in \n",
    "    cooking the lasagna dish. \n",
    "    \n",
    "    \"\"\"\n",
    "    return (prepartion_time(layers) + bake_time(spent_time))"
   ]
  },
  {
   "cell_type": "code",
   "execution_count": 14,
   "id": "0f8d453c",
   "metadata": {},
   "outputs": [
    {
     "name": "stdout",
     "output_type": "stream",
     "text": [
      "Baking time elapsed: 20 minutes\n",
      "Remaining time in Baking: 40 minutes\n",
      "Lasagna layers prep time: 16 minutes\n",
      "Total time Layers prep + bake: 36 minutes\n"
     ]
    }
   ],
   "source": [
    "import lasagna_prep\n",
    "\n",
    "print(\"Baking time elapsed:\",lasagna_prep.bake_time(20),\"minutes\")\n",
    "print(\"Remaining time in Baking:\",lasagna_prep.remaining_time(20),\"minutes\")\n",
    "print(\"Lasagna layers prep time:\",lasagna_prep.prepartion_time(8),\"minutes\")\n",
    "print(\"Total time Layers prep + bake:\",lasagna_prep.total_time_elapsed(8,20),\"minutes\")"
   ]
  }
 ],
 "metadata": {
  "kernelspec": {
   "display_name": "Python 3 (ipykernel)",
   "language": "python",
   "name": "python3"
  },
  "language_info": {
   "codemirror_mode": {
    "name": "ipython",
    "version": 3
   },
   "file_extension": ".py",
   "mimetype": "text/x-python",
   "name": "python",
   "nbconvert_exporter": "python",
   "pygments_lexer": "ipython3",
   "version": "3.11.5"
  }
 },
 "nbformat": 4,
 "nbformat_minor": 5
}
