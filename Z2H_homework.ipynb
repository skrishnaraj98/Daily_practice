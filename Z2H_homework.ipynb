{
 "cells": [
  {
   "cell_type": "code",
   "execution_count": 1,
   "id": "b3bd0d75-f347-4145-8dc1-86bb6fb5a6c9",
   "metadata": {},
   "outputs": [],
   "source": [
    "def volume_sphere(radius):\n",
    "    Pi = 3.14\n",
    "    volume = (4/3)*(Pi)*(radius**3)\n",
    "    return volume"
   ]
  },
  {
   "cell_type": "code",
   "execution_count": 2,
   "id": "52eb1168-2b1f-4b81-9ac0-3e5bc487a91e",
   "metadata": {},
   "outputs": [
    {
     "data": {
      "text/plain": [
       "33.49333333333333"
      ]
     },
     "execution_count": 2,
     "metadata": {},
     "output_type": "execute_result"
    }
   ],
   "source": [
    "volume_sphere(2)"
   ]
  },
  {
   "cell_type": "code",
   "execution_count": 3,
   "id": "8b618ce0-d26a-4c76-9290-d3496defc20b",
   "metadata": {},
   "outputs": [],
   "source": [
    "def num_check(num,low,high):\n",
    "    if num in list(range(low,high)):\n",
    "        return True\n",
    "    else: \n",
    "        return False"
   ]
  },
  {
   "cell_type": "code",
   "execution_count": 4,
   "id": "23c1c6ae-63aa-49a1-8f57-0887b52b70b9",
   "metadata": {},
   "outputs": [
    {
     "data": {
      "text/plain": [
       "True"
      ]
     },
     "execution_count": 4,
     "metadata": {},
     "output_type": "execute_result"
    }
   ],
   "source": [
    "num_check(5,2,10)"
   ]
  },
  {
   "cell_type": "code",
   "execution_count": 5,
   "id": "97765d8c-8d81-4443-8e32-e9f257d37133",
   "metadata": {},
   "outputs": [
    {
     "data": {
      "text/plain": [
       "False"
      ]
     },
     "execution_count": 5,
     "metadata": {},
     "output_type": "execute_result"
    }
   ],
   "source": [
    "num_check(3,1,2)"
   ]
  },
  {
   "cell_type": "code",
   "execution_count": 6,
   "id": "e26397ba-bbb4-4478-826f-2dc696e33deb",
   "metadata": {},
   "outputs": [],
   "source": [
    "def check_list(mylist):\n",
    "    new_list = list(set(mylist))\n",
    "    return new_list"
   ]
  },
  {
   "cell_type": "code",
   "execution_count": 7,
   "id": "f20c58e5-20c5-4c08-9a94-7c84c4ae1ec6",
   "metadata": {},
   "outputs": [
    {
     "data": {
      "text/plain": [
       "[1, 2, 3, 4, 5, 6, 10]"
      ]
     },
     "execution_count": 7,
     "metadata": {},
     "output_type": "execute_result"
    }
   ],
   "source": [
    "check_list([1,2,3,4,5,6,2,3,1,4,5,6,2,3,10,2,3])"
   ]
  },
  {
   "cell_type": "code",
   "execution_count": 13,
   "id": "8f4f656e-2207-43b3-8965-6c967ae29678",
   "metadata": {},
   "outputs": [],
   "source": [
    "def multiply_list(l):\n",
    "    v = 1\n",
    "    for i in l: \n",
    "        print(l.pop())\n",
    "        v=v*(l.pop())\n",
    "        \n",
    "    return v"
   ]
  },
  {
   "cell_type": "code",
   "execution_count": 14,
   "id": "2103b799-4beb-4c06-aa4c-48179a2017e5",
   "metadata": {},
   "outputs": [
    {
     "name": "stdout",
     "output_type": "stream",
     "text": [
      "4\n",
      "2\n"
     ]
    },
    {
     "data": {
      "text/plain": [
       "3"
      ]
     },
     "execution_count": 14,
     "metadata": {},
     "output_type": "execute_result"
    }
   ],
   "source": [
    "multiply_list([1,2,3,4])"
   ]
  },
  {
   "cell_type": "code",
   "execution_count": 18,
   "id": "31a527d3-3e29-43b6-9a35-2f030a491c12",
   "metadata": {},
   "outputs": [
    {
     "data": {
      "text/plain": [
       "4"
      ]
     },
     "execution_count": 18,
     "metadata": {},
     "output_type": "execute_result"
    }
   ],
   "source": [
    "l=[1,2,3,4]\n",
    "l.pop()"
   ]
  },
  {
   "cell_type": "code",
   "execution_count": 21,
   "id": "cd8189f9-0441-4b7f-8d6d-a790bc2065f6",
   "metadata": {},
   "outputs": [],
   "source": [
    "def multi_list(l):\n",
    "    v=1\n",
    "    for i in l:\n",
    "        v=v*i\n",
    "    return v"
   ]
  },
  {
   "cell_type": "code",
   "execution_count": 22,
   "id": "cbf46e93-bf6e-4666-93a5-7a6c8a1da3fc",
   "metadata": {},
   "outputs": [
    {
     "data": {
      "text/plain": [
       "24"
      ]
     },
     "execution_count": 22,
     "metadata": {},
     "output_type": "execute_result"
    }
   ],
   "source": [
    "multi_list([1,2,3,4])"
   ]
  },
  {
   "cell_type": "code",
   "execution_count": 23,
   "id": "148aa43b-b9a7-48c0-bf7a-55b75ae0b8e6",
   "metadata": {},
   "outputs": [],
   "source": [
    "def check_palindrome(phrase):\n",
    "    if \" \" in phrase:\n",
    "        phrase = phrase.replace(\" \",\"\")\n",
    "    if phrase == phrase[::-1]:\n",
    "        return True\n",
    "    else:\n",
    "        return False"
   ]
  },
  {
   "cell_type": "code",
   "execution_count": 24,
   "id": "14481224-fc5e-424f-b288-6eb4b88d29a0",
   "metadata": {},
   "outputs": [
    {
     "data": {
      "text/plain": [
       "True"
      ]
     },
     "execution_count": 24,
     "metadata": {},
     "output_type": "execute_result"
    }
   ],
   "source": [
    "check_palindrome(\"n urs es  ru n\")"
   ]
  },
  {
   "cell_type": "code",
   "execution_count": null,
   "id": "bb9033fa-db93-4b9a-8191-274e1336bc01",
   "metadata": {},
   "outputs": [],
   "source": []
  }
 ],
 "metadata": {
  "kernelspec": {
   "display_name": "Python 3 (ipykernel)",
   "language": "python",
   "name": "python3"
  },
  "language_info": {
   "codemirror_mode": {
    "name": "ipython",
    "version": 3
   },
   "file_extension": ".py",
   "mimetype": "text/x-python",
   "name": "python",
   "nbconvert_exporter": "python",
   "pygments_lexer": "ipython3",
   "version": "3.11.7"
  }
 },
 "nbformat": 4,
 "nbformat_minor": 5
}
